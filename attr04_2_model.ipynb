{
 "cells": [
  {
   "cell_type": "markdown",
   "id": "k7ahRdEdHhE7",
   "metadata": {},
   "source": [
    "# Модель attr_04\n",
    "### модель с изменяемой значимостью фичей (различий атрибутов)\n",
    "### для каждой категории 3-го уровня - своя модель LGBM, class='balanced'"
   ]
  },
  {
   "cell_type": "markdown",
   "id": "Xa80sIpEPgTf",
   "metadata": {},
   "source": [
    "<br><br><br>\n",
    "# Моделирование / Submit"
   ]
  },
  {
   "cell_type": "code",
   "execution_count": 1,
   "id": "NRmGPTTqW8DW",
   "metadata": {},
   "outputs": [],
   "source": [
    "# SUBMIT 1: Готовим сабмит, используем тестовую выборку Озона\n",
    "# SUBMIT 0: Тестируем модель на валидационной выборке (Сплитим обучающую выборку Озона на train и test)\n",
    "\n",
    "SUBMIT = 1"
   ]
  },
  {
   "cell_type": "markdown",
   "id": "VFNys2FZedIl",
   "metadata": {},
   "source": [
    "<br><br><br>\n",
    "# Названия файлов и путей"
   ]
  },
  {
   "cell_type": "code",
   "execution_count": 2,
   "id": "4o9P2TYXpVIR",
   "metadata": {},
   "outputs": [
    {
     "name": "stdout",
     "output_type": "stream",
     "text": [
      "Mounted at /content/drive\n"
     ]
    }
   ],
   "source": [
    "# 4COLAB: подключаем гугл-диск\n",
    "from google.colab import drive\n",
    "drive.mount ('/content/drive')"
   ]
  },
  {
   "cell_type": "code",
   "execution_count": 3,
   "id": "oU4CLla9WKej",
   "metadata": {},
   "outputs": [],
   "source": [
    "# путь до папки с файлами\n",
    "# files_path = ''\n",
    "# files_path = 'datasets/'\n",
    "files_path = '/content/drive/MyDrive/Colab Notebooks/Ozon/datasets/'\n",
    "\n",
    "# ----- INPUT FILES --------------------------------------------------\n",
    "# названия файлов обучающей выборки\n",
    "trn_features_file = 'train_features_02.npz'\n",
    "trn_other_file = 'train_other_02.parquet'\n",
    "\n",
    "# названия файлов тестовой выборки\n",
    "tst_features_file = 'test_features_02.npz'\n",
    "tst_other_file = 'test_other_02.parquet'\n",
    "\n",
    "# ----- OUTPUT FILES -------------------------------------------------\n",
    "# названия выходных файлов\n",
    "submit_file = 'submit_vova_04.csv'  # модель attr_04 с коэф-ми значимости"
   ]
  },
  {
   "cell_type": "markdown",
   "id": "GY1mdeA5HhFH",
   "metadata": {},
   "source": [
    "<br><br><br>\n",
    "# Подготовка к работе"
   ]
  },
  {
   "cell_type": "code",
   "execution_count": 4,
   "id": "HFZdC1E8HhFJ",
   "metadata": {},
   "outputs": [],
   "source": [
    "# импорт необходимых модулей\n",
    "import pandas as pd\n",
    "import numpy as np\n",
    "import matplotlib.pyplot as plt\n",
    "\n",
    "import scipy.sparse as sp\n",
    "from scipy.sparse import csr_matrix\n",
    "\n",
    "from sklearn.model_selection import train_test_split\n",
    "from sklearn.metrics import f1_score, precision_score, recall_score, roc_auc_score, precision_recall_curve, auc\n",
    "\n",
    "from sklearn.linear_model import LogisticRegression\n",
    "from lightgbm import LGBMClassifier\n",
    "\n",
    "import warnings"
   ]
  },
  {
   "cell_type": "code",
   "execution_count": 5,
   "id": "tCF0y61HHhFJ",
   "metadata": {},
   "outputs": [],
   "source": [
    "# предупреждения OFF\n",
    "warnings.filterwarnings('ignore')"
   ]
  },
  {
   "cell_type": "code",
   "execution_count": 6,
   "id": "lYtTEi87HhFJ",
   "metadata": {},
   "outputs": [],
   "source": [
    "# настройки вывода датафреймов\n",
    "pd.set_option('display.max_rows', 1000)\n",
    "pd.set_option('display.max_colwidth', 200)\n",
    "pd.set_option('display.max_columns', 50)"
   ]
  },
  {
   "cell_type": "code",
   "execution_count": 7,
   "id": "46b872db",
   "metadata": {},
   "outputs": [],
   "source": [
    "# константы для фиксации сидов и разделения на выборки\n",
    "RND = 42\n",
    "TEST_SIZE = 0.2"
   ]
  },
  {
   "cell_type": "markdown",
   "id": "HjFf69dFV4Tt",
   "metadata": {},
   "source": [
    "<br><br><br>\n",
    "# Загрузка файлов, подготовка X_train, X_test, y_train, y_test"
   ]
  },
  {
   "cell_type": "code",
   "execution_count": 8,
   "id": "jud9Y54LcIB4",
   "metadata": {},
   "outputs": [
    {
     "name": "stdout",
     "output_type": "stream",
     "text": [
      "CPU times: user 5.56 s, sys: 2.58 s, total: 8.13 s\n",
      "Wall time: 10.4 s\n"
     ]
    }
   ],
   "source": [
    "%%time\n",
    "# загрузка файлов обучающей выборки Озона\n",
    "train = pd.read_parquet(files_path + trn_other_file)\n",
    "train_spm = sp.load_npz(files_path + trn_features_file)"
   ]
  },
  {
   "cell_type": "code",
   "execution_count": 9,
   "id": "cnloUT4sXe24",
   "metadata": {},
   "outputs": [
    {
     "name": "stdout",
     "output_type": "stream",
     "text": [
      "CPU times: user 206 ms, sys: 114 ms, total: 320 ms\n",
      "Wall time: 973 ms\n"
     ]
    }
   ],
   "source": [
    "%%time\n",
    "if SUBMIT:\n",
    "    # загрузка файлов тестовой выборки Озона\n",
    "    test = pd.read_parquet(files_path + tst_other_file)\n",
    "    test_spm = sp.load_npz(files_path + tst_features_file)\n",
    "    X_train = train_spm\n",
    "    X_test = test_spm\n",
    "    y_train = train['target']\n",
    "else:\n",
    "    # создание обучающей и валидационной (тестовой) выборки из обучающей выборки Озона\n",
    "    train, test = train_test_split(train, test_size=TEST_SIZE, random_state=RND, \n",
    "                                   stratify=train[['cat3_grouped', 'target']])\n",
    "    test_spm = train_spm\n",
    "    X_train = train_spm[train.index]\n",
    "    X_test = test_spm[test.index]\n",
    "    y_train = train['target']\n",
    "    y_test = test['target']"
   ]
  },
  {
   "cell_type": "markdown",
   "id": "v-vJHLazcIBq",
   "metadata": {},
   "source": [
    "<br><br><br>\n",
    "# Функции вычисления и вывода метрик"
   ]
  },
  {
   "cell_type": "code",
   "execution_count": 10,
   "id": "HYJJU2NyWU2u",
   "metadata": {},
   "outputs": [],
   "source": [
    "# переменная-выключатель вывода метрик по категориям (1 - выводить, 0 - нет)\n",
    "show_cat = 0"
   ]
  },
  {
   "cell_type": "code",
   "execution_count": 11,
   "id": "VopxEaqRYu-0",
   "metadata": {},
   "outputs": [],
   "source": [
    "# вычисление PR-AUC (исправленная, 3 версия)\n",
    "def pr_auc_macro(\n",
    "    target_df: pd.DataFrame,\n",
    "    predictions_df: pd.DataFrame,\n",
    "    prec_level: float = 0.75,\n",
    "    cat_column: str = \"cat3_grouped\"\n",
    ") -> float:\n",
    "\n",
    "    df = target_df.merge(predictions_df, on=[\"variantid1\", \"variantid2\"])\n",
    "\n",
    "    y_true = df[\"target\"]\n",
    "    y_pred = df[\"scores\"]\n",
    "    categories = df[cat_column]\n",
    "\n",
    "    weights = []\n",
    "    pr_aucs = []\n",
    "\n",
    "    unique_cats, counts = np.unique(categories, return_counts=True)\n",
    "\n",
    "    if show_cat:\n",
    "        print()\n",
    "        print('По категориям:')\n",
    "\n",
    "    # calculate metric for each big category\n",
    "    for i, category in enumerate(unique_cats):\n",
    "        # take just a certain category\n",
    "        cat_idx = np.where(categories == category)[0]\n",
    "        y_pred_cat = y_pred[cat_idx]\n",
    "        y_true_cat = y_true[cat_idx]\n",
    "\n",
    "        # if there is no matches in the category then PRAUC=0\n",
    "        if sum(y_true_cat) == 0:\n",
    "            pr_aucs.append(0)\n",
    "            weights.append(counts[i] / len(categories))\n",
    "            if show_cat:\n",
    "                print(f\"---------------   Вес: {counts[i]/len(categories):.5f}   {category}\")\n",
    "            continue\n",
    "        \n",
    "        # get coordinates (x, y) for (recall, precision) of PR-curve\n",
    "        y, x, _ = precision_recall_curve(y_true_cat, y_pred_cat)\n",
    "        \n",
    "        # reverse the lists so that x's are in ascending order (left to right)\n",
    "        y = y[::-1]\n",
    "        x = x[::-1]\n",
    "        \n",
    "        # get indices for x-coordinate (recall) where y-coordinate (precision) \n",
    "        # is higher than precision level (75% for our task)\n",
    "        good_idx = np.where(y >= prec_level)[0]\n",
    "        \n",
    "        # if there are more than one such x's (at least one is always there, \n",
    "        # it's x=0 (recall=0)) we get a grid from x=0, to the rightest x \n",
    "        # with acceptable precision\n",
    "        if len(good_idx) > 1:\n",
    "            gt_prec_level_idx = np.arange(0, good_idx[-1] + 1)\n",
    "        # if there is only one such x, then we have zeros in the top scores \n",
    "        # and the curve simply goes down sharply at x=0 and does not rise \n",
    "        # above the required precision: PRAUC=0\n",
    "        else:\n",
    "            pr_aucs.append(0)\n",
    "            weights.append(counts[i] / len(categories))\n",
    "            if show_cat:\n",
    "                print(f\"---------------   Вес: {counts[i]/len(categories):.5f}   {category}\")\n",
    "            continue\n",
    "        \n",
    "        # calculate category weight anyway\n",
    "        weights.append(counts[i] / len(categories))\n",
    "        # calculate PRAUC for all points where the rightest x \n",
    "        # still has required precision \n",
    "        try:\n",
    "            pr_auc_prec_level = auc(x[gt_prec_level_idx], y[gt_prec_level_idx])\n",
    "            if not np.isnan(pr_auc_prec_level):\n",
    "                pr_aucs.append(pr_auc_prec_level)\n",
    "                if show_cat:\n",
    "                    print(f\"pr-auc: {pr_auc_prec_level:.5f}   Вес: {counts[i]/len(categories):.5f}   {category}\")\n",
    "        except ValueError:\n",
    "            pr_aucs.append(0)\n",
    "            if show_cat:\n",
    "                print(f\"---------------   Вес: {counts[i]/len(categories):.5f}   {category}\")\n",
    "    if show_cat:\n",
    "        print()\n",
    "\n",
    "    return np.average(pr_aucs, weights=weights)"
   ]
  },
  {
   "cell_type": "code",
   "execution_count": 12,
   "id": "SG6i28HVS4Lh",
   "metadata": {},
   "outputs": [],
   "source": [
    "# подготовка инпутов для вычисления, вычисление и возврат значения PR-AUC\n",
    "def pr_auc_score(test, y_prob):\n",
    "    target_df = test[['target', 'variantid1', 'variantid2']]\n",
    "    predictions_df = test[['variantid1', 'variantid2', 'cat3_grouped']]\n",
    "    predictions_df['scores'] = y_prob\n",
    "    return pr_auc_macro(target_df, predictions_df, prec_level=0.75, cat_column=\"cat3_grouped\")"
   ]
  },
  {
   "cell_type": "code",
   "execution_count": 13,
   "id": "1kpBV3GrMusu",
   "metadata": {},
   "outputs": [],
   "source": [
    "def show_results(test, y_pred, y_prob):\n",
    "    if SUBMIT:\n",
    "        return\n",
    "    y_test = test['target']\n",
    "    print(f'Метрики:')\n",
    "    print('-'*19)\n",
    "    print(f\"{'Precision:':11s} {precision_score(y_test, y_pred):.5f}\")\n",
    "    print(f\"{'Recall:':11s} {recall_score(y_test, y_pred):.5f}\")\n",
    "    print(f\"{'F1:':11s} {f1_score(y_test, y_pred):.5f}\")\n",
    "    print(f\"{'PR-AUC:':11s} {pr_auc_score(test, y_prob):.5f}\")"
   ]
  },
  {
   "cell_type": "markdown",
   "id": "joFZeNaamz6j",
   "metadata": {},
   "source": [
    "<br><br><br>\n",
    "# Моделирование"
   ]
  },
  {
   "cell_type": "code",
   "execution_count": 14,
   "id": "VeNVzQPVPI68",
   "metadata": {},
   "outputs": [
    {
     "name": "stdout",
     "output_type": "stream",
     "text": [
      "Батарейки и аккумуляторы (7656, 6) (596, 5)\n",
      "Смартфоны, планшеты, мобильные телефоны (42622, 6) (925, 5)\n",
      "Кабели и переходники (19979, 6) (1078, 5)\n",
      "Устройство ручного ввода (8517, 6) (413, 5)\n",
      "Аксессуары для фото и видеотехники (1716, 6) (186, 5)\n",
      "Расходник для печати (22800, 6) (1564, 5)\n",
      "Запчасти для смартфонов (6025, 6) (1007, 5)\n",
      "Запчасти для ноутбуков (6568, 6) (2323, 5)\n",
      "Видеокарты и графические ускорители (2844, 6) (104, 5)\n",
      "Смарт-часы (12517, 6) (1545, 5)\n",
      "Корпуса для компьютеров (573, 6) (53, 5)\n",
      "Компьютер (42565, 6) (1043, 5)\n",
      "Зарядные устройства и док-станции (7187, 6) (1849, 5)\n",
      "Наушники и гарнитуры (10219, 6) (532, 5)\n",
      "Видеонаблюдение (6216, 6) (309, 5)\n",
      "Акустика и колонки (3008, 6) (227, 5)\n",
      "Электронные модули (3427, 6) (393, 5)\n",
      "Кронштейн (1471, 6) (171, 5)\n",
      "Офисная техника (555, 6) (39, 5)\n",
      "Оптические приборы (3758, 6) (133, 5)\n",
      "Мониторы и запчасти (2580, 6) (136, 5)\n",
      "Жесткие диски, SSD и сетевые накопители (6806, 6) (565, 5)\n",
      "Телевизоры (3413, 6) (163, 5)\n",
      "Сетевые фильтры, разветвители и удлинители (2320, 6) (217, 5)\n",
      "Сетевое оборудование (2889, 6) (105, 5)\n",
      "Принтеры и МФУ (2276, 6) (75, 5)\n",
      "Антенны и аксессуары (644, 6) (42, 5)\n",
      "----- fit on rest ----- Аксессуары для игровых приставок (6404, 6) (40, 5)\n",
      "Оперативная память (2570, 6) (221, 5)\n",
      "----- fit on rest ----- Гаджет (6404, 6) (56, 5)\n",
      "----- fit on rest ----- MP3-плееры (6404, 6) (30, 5)\n",
      "Коврик для мыши (1330, 6) (189, 5)\n",
      "Домофон (1123, 6) (47, 5)\n",
      "Процессор (1439, 6) (53, 5)\n",
      "Системы охлаждения для компьютеров (1124, 6) (98, 5)\n",
      "rest (6404, 6) (222, 5)\n",
      "Видеорегистратор (1593, 6) (86, 5)\n",
      "Блоки питания (926, 6) (113, 5)\n",
      "Защитные пленки и стекла (5124, 6) (52, 5)\n",
      "ИБП (1358, 6) (68, 5)\n",
      "Карты памяти и флешки (3727, 6) (138, 5)\n",
      "Рюкзаки, чехлы, сумки (1107, 6) (82, 5)\n",
      "Чехол (23197, 6) (261, 5)\n",
      "----- fit on rest ----- Штативы и головки (6404, 6) (29, 5)\n",
      "----- fit on rest ----- Расходные материалы (6404, 6) (73, 5)\n",
      "----- fit on rest ----- Запчасти для аудио/видеотехники (6404, 6) (61, 5)\n",
      "Видеокамеры (793, 6) (51, 5)\n",
      "Микрофоны и аксессуары (1068, 6) (71, 5)\n",
      "----- fit on rest ----- Фотоаппараты (6404, 6) (28, 5)\n",
      "Материнская плата (6701, 6) (89, 5)\n",
      "Умный дом (1074, 6) (73, 5)\n",
      "----- fit on rest ----- Усилители, ресиверы и ЦАПы (6404, 6) (27, 5)\n",
      "Проводные и DECT-телефоны (870, 6) (33, 5)\n",
      "CPU times: user 1min 30s, sys: 1.38 s, total: 1min 32s\n",
      "Wall time: 1min\n"
     ]
    }
   ],
   "source": [
    "%%time\n",
    "# модель 04 (attr_04)    pr-auc 0.47887    submit04 0.08596\n",
    "# модель с изменяемой значимостью фичей (различий атрибутов)\n",
    "# для каждой категории своя модель LGBM, class='balanced'\n",
    "\n",
    "\n",
    "# функция вычисления вектора с количествами значений фичей по столбцам в спарс-матрице\n",
    "def get_count_vec(matrix, feature_value):\n",
    "    if feature_value == 0:\n",
    "        # подсчет вектора с количеством нулей по столбцам\n",
    "        counts_not_null = matrix.getnnz(axis=0)\n",
    "        count_vec = matrix.shape[0] - counts_not_null\n",
    "    else:\n",
    "        # матрица, как входная matrix, но единички на месте feature_value, остальные нули\n",
    "        ones_matrix = csr_matrix(((matrix.data == feature_value).astype(int), matrix.indices, matrix.indptr), \n",
    "                                 shape=matrix.shape)\n",
    "        # подсчет единичек по столбцам, результат - вектор с количествами\n",
    "        count_vec = np.array(ones_matrix.sum(axis=0)).flatten()\n",
    "    return count_vec\n",
    "\n",
    "\n",
    "# создание общих векторов предиктов\n",
    "y_pred = pd.Series(0, index=test.index)\n",
    "y_prob = pd.Series(0, index=test.index)\n",
    "\n",
    "# цикл по категориям тестовой выборки\n",
    "for cat in test['cat3_grouped'].unique():\n",
    "\n",
    "    # выборки датафреймов для выбранной категории cat\n",
    "    trn_cat = train[train['cat3_grouped'] == (cat if cat in train['cat3_grouped'].unique() else 'rest')]\n",
    "    tst_cat = test[test['cat3_grouped'] == cat]\n",
    "    print(f\"{'' if cat in train['cat3_grouped'].unique() else '----- fit on rest ----- '}{cat}\", \n",
    "          f\"{trn_cat.shape} {tst_cat.shape}\")\n",
    "\n",
    "    # выборки спарс-матриц фичей для выбранной категории cat (абсолютное индексирование, от входных матриц)\n",
    "    X_train_cat = train_spm[trn_cat.index]\n",
    "    X_test_cat = test_spm[tst_cat.index]\n",
    "    y_train_cat = trn_cat['target']\n",
    "\n",
    "    # выборка датафрейма для выбранной категории cat с таргетом 1 (t1) и таргетом 0 (t0)\n",
    "    trn_cat_t1 = train[(train['target'] == 1) & \n",
    "                       (train['cat3_grouped'] == (cat if cat in train['cat3_grouped'].unique() else 'rest'))]\n",
    "    trn_cat_t0 = train[(train['target'] == 0) & \n",
    "                       (train['cat3_grouped'] == (cat if cat in train['cat3_grouped'].unique() else 'rest'))]\n",
    "    X_train_cat_t1 = train_spm[trn_cat_t1.index]\n",
    "    X_train_cat_t0 = train_spm[trn_cat_t0.index]\n",
    "\n",
    "    # для всех кат., кроме запч., меняем значения совпадений (0.1 --> 0.024) и частичных совпадений (0.5 --> 1.1)\n",
    "    if cat not in ['Запчасти для ноутбуков']:\n",
    "        X_train_cat = csr_matrix(([v if v >= 1 else 0.024 if v == 0.1 else 1.1 for v in X_train_cat.data], \n",
    "                                  X_train_cat.indices, X_train_cat.indptr), shape=X_train_cat.shape)\n",
    "        X_test_cat = csr_matrix(([v if v >= 1 else 0.024 if v == 0.1 else 1.1 for v in X_test_cat.data], \n",
    "                                 X_test_cat.indices, X_test_cat.indptr), shape=X_test_cat.shape)\n",
    "        X_train_cat_t1 = csr_matrix(([v if v >= 1 else 0.024 if v == 0.1 else 1.1 for v in X_train_cat_t1.data], \n",
    "                                     X_train_cat_t1.indices, X_train_cat_t1.indptr), shape=X_train_cat_t1.shape)\n",
    "        X_train_cat_t0 = csr_matrix(([v if v >= 1 else 0.024 if v == 0.1 else 1.1 for v in X_train_cat_t0.data], \n",
    "                                     X_train_cat_t0.indices, X_train_cat_t0.indptr), shape=X_train_cat_t0.shape)\n",
    "\n",
    "    # обозначения признаков и их значения в матрице фичей v.02\n",
    "    diff = 1    # (difference)\n",
    "    mtch = 0.1  # (match)\n",
    "    part = 0.5  # (partial match)\n",
    "    ndat = 0    # (no data)\n",
    "\n",
    "    # вычисление количества всех различий (diff) в категории, плюс всех различий по классам\n",
    "    counts_diff = get_count_vec(X_train_cat, diff)\n",
    "    counts_diff_t1 = get_count_vec(X_train_cat_t1, diff)\n",
    "    counts_diff_t0 = get_count_vec(X_train_cat_t0, diff)\n",
    "\n",
    "    # множитель для вектора фичей пары\n",
    "    factor = 1\n",
    "    if cat in ['Запчасти для ноутбуков', 'Компьютер', 'Запчасти для смартфонов']:\n",
    "        factor = counts_diff + counts_diff_t0 - counts_diff_t1\n",
    "\n",
    "    # умножаем поэлементно каждую строку (вектор) матрицы фичей на строку (вектор) factor\n",
    "    X_train_cat = X_train_cat.multiply(factor)\n",
    "    X_test_cat = X_test_cat.multiply(factor)\n",
    "\n",
    "    # обучение и предикты модели для категории\n",
    "    model = LGBMClassifier(random_state=RND, n_estimators = 500, class_weight = 'balanced', max_depth = 15)\n",
    "    model.fit(X_train_cat, y_train_cat)\n",
    "    pred = model.predict(X_test_cat)\n",
    "    prob = model.predict_proba(X_test_cat)[:,1]\n",
    "\n",
    "    # добавление предиктов для категории в общие вектора предиктов\n",
    "    y_pred.loc[tst_cat.index] = pred\n",
    "    y_prob.loc[tst_cat.index] = prob"
   ]
  },
  {
   "cell_type": "code",
   "execution_count": 15,
   "id": "rQEdNTwgvCKp",
   "metadata": {},
   "outputs": [],
   "source": [
    "# переменная-выключатель вывода метрик по категориям (1 - выводить, 0 - нет)\n",
    "show_cat = 1\n",
    "\n",
    "# out\n",
    "show_results(test, y_pred, y_prob)"
   ]
  },
  {
   "cell_type": "markdown",
   "id": "pkBFi9LDSt8l",
   "metadata": {},
   "source": [
    "<br><br><br>\n",
    "# Подготовка и сохранение CSV-файла для сабмита\n",
    "\n",
    "### (данный код выполняется, если SUBMIT != 0)"
   ]
  },
  {
   "cell_type": "code",
   "execution_count": 16,
   "id": "8N0OP4C9EddO",
   "metadata": {},
   "outputs": [
    {
     "data": {
      "text/html": [
       "<div>\n",
       "<style scoped>\n",
       "    .dataframe tbody tr th:only-of-type {\n",
       "        vertical-align: middle;\n",
       "    }\n",
       "\n",
       "    .dataframe tbody tr th {\n",
       "        vertical-align: top;\n",
       "    }\n",
       "\n",
       "    .dataframe thead th {\n",
       "        text-align: right;\n",
       "    }\n",
       "</style>\n",
       "<table border=\"1\" class=\"dataframe\">\n",
       "  <thead>\n",
       "    <tr style=\"text-align: right;\">\n",
       "      <th></th>\n",
       "      <th>variantid1</th>\n",
       "      <th>variantid2</th>\n",
       "      <th>target</th>\n",
       "    </tr>\n",
       "  </thead>\n",
       "  <tbody>\n",
       "    <tr>\n",
       "      <th>0</th>\n",
       "      <td>52076340</td>\n",
       "      <td>290590137</td>\n",
       "      <td>0.007404</td>\n",
       "    </tr>\n",
       "    <tr>\n",
       "      <th>1</th>\n",
       "      <td>64525522</td>\n",
       "      <td>204128919</td>\n",
       "      <td>0.137953</td>\n",
       "    </tr>\n",
       "    <tr>\n",
       "      <th>2</th>\n",
       "      <td>77243372</td>\n",
       "      <td>479860557</td>\n",
       "      <td>0.538166</td>\n",
       "    </tr>\n",
       "    <tr>\n",
       "      <th>3</th>\n",
       "      <td>86065820</td>\n",
       "      <td>540678372</td>\n",
       "      <td>0.799935</td>\n",
       "    </tr>\n",
       "    <tr>\n",
       "      <th>4</th>\n",
       "      <td>91566575</td>\n",
       "      <td>258840506</td>\n",
       "      <td>0.459643</td>\n",
       "    </tr>\n",
       "    <tr>\n",
       "      <th>...</th>\n",
       "      <td>...</td>\n",
       "      <td>...</td>\n",
       "      <td>...</td>\n",
       "    </tr>\n",
       "    <tr>\n",
       "      <th>18079</th>\n",
       "      <td>666998614</td>\n",
       "      <td>667074522</td>\n",
       "      <td>0.000439</td>\n",
       "    </tr>\n",
       "    <tr>\n",
       "      <th>18080</th>\n",
       "      <td>670036240</td>\n",
       "      <td>670048449</td>\n",
       "      <td>0.190727</td>\n",
       "    </tr>\n",
       "    <tr>\n",
       "      <th>18081</th>\n",
       "      <td>670284509</td>\n",
       "      <td>684323809</td>\n",
       "      <td>0.852871</td>\n",
       "    </tr>\n",
       "    <tr>\n",
       "      <th>18082</th>\n",
       "      <td>692172005</td>\n",
       "      <td>704805270</td>\n",
       "      <td>0.603871</td>\n",
       "    </tr>\n",
       "    <tr>\n",
       "      <th>18083</th>\n",
       "      <td>704060220</td>\n",
       "      <td>704096517</td>\n",
       "      <td>0.250952</td>\n",
       "    </tr>\n",
       "  </tbody>\n",
       "</table>\n",
       "<p>18084 rows × 3 columns</p>\n",
       "</div>"
      ],
      "text/plain": [
       "       variantid1  variantid2    target\n",
       "0        52076340   290590137  0.007404\n",
       "1        64525522   204128919  0.137953\n",
       "2        77243372   479860557  0.538166\n",
       "3        86065820   540678372  0.799935\n",
       "4        91566575   258840506  0.459643\n",
       "...           ...         ...       ...\n",
       "18079   666998614   667074522  0.000439\n",
       "18080   670036240   670048449  0.190727\n",
       "18081   670284509   684323809  0.852871\n",
       "18082   692172005   704805270  0.603871\n",
       "18083   704060220   704096517  0.250952\n",
       "\n",
       "[18084 rows x 3 columns]"
      ]
     },
     "metadata": {},
     "output_type": "display_data"
    }
   ],
   "source": [
    "if SUBMIT:\n",
    "    # создание датафрейма для сабмита из пары столбцов test + столбец с предсказаниями\n",
    "    submit_df = test[['variantid1', 'variantid2']]\n",
    "    submit_df['target'] = y_prob\n",
    "\n",
    "    # сохранение датафрейма для сабмита в файл\n",
    "    submit_df.to_csv(files_path + submit_file, index=False)\n",
    "\n",
    "    # out\n",
    "    display(submit_df)"
   ]
  }
 ],
 "metadata": {
  "colab": {
   "gpuType": "T4",
   "provenance": [
    {
     "file_id": "1cVeZLqgnOvWw-nVz6VlvNKm5mv66sU6-",
     "timestamp": 1683479657082
    }
   ]
  },
  "gpuClass": "standard",
  "kernelspec": {
   "display_name": "Python 3 (ipykernel)",
   "language": "python",
   "name": "python3"
  },
  "language_info": {
   "codemirror_mode": {
    "name": "ipython",
    "version": 3
   },
   "file_extension": ".py",
   "mimetype": "text/x-python",
   "name": "python",
   "nbconvert_exporter": "python",
   "pygments_lexer": "ipython3",
   "version": "3.11.4"
  }
 },
 "nbformat": 4,
 "nbformat_minor": 5
}
